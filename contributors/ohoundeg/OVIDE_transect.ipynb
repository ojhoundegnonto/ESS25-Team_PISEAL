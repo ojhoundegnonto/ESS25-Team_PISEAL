{
 "cells": [
  {
   "cell_type": "markdown",
   "id": "87434749-1979-484e-88aa-cfaddf0a6599",
   "metadata": {},
   "source": [
    "# Getting OVIDE transect coordinates"
   ]
  },
  {
   "cell_type": "code",
   "execution_count": 40,
   "id": "d517dcfc-f9f4-4ba5-830e-8191bcc7538e",
   "metadata": {},
   "outputs": [],
   "source": [
    "import numpy as np\n",
    "import h5py"
   ]
  },
  {
   "cell_type": "code",
   "execution_count": 60,
   "id": "97a11698-e76a-4ee9-8827-25731487d549",
   "metadata": {},
   "outputs": [],
   "source": [
    "# # !wget https://drive.google.com/file/d/1WLMZQ327AKMK14RetqCequDArR_XZa0V/view?usp=sharing\n",
    "# # FILE_ID = 1WLMZQ327AKMK14RetqCequDArR_XZa0V\n",
    "# !gdown https://drive.google.com/uc?id=1WLMZQ327AKMK14RetqCequDArR_XZa0V"
   ]
  },
  {
   "cell_type": "code",
   "execution_count": 57,
   "id": "73cf3e7b-9f21-4c4d-a03a-e59a2a1ec792",
   "metadata": {},
   "outputs": [
    {
     "name": "stdout",
     "output_type": "stream",
     "text": [
      "['LaI_GR', 'LoI_GR']\n"
     ]
    }
   ],
   "source": [
    "with h5py.File('OVIDE_position.mat', 'r') as f:\n",
    "    print(list(f.keys()))"
   ]
  },
  {
   "cell_type": "code",
   "execution_count": 58,
   "id": "7a4f73fd-9e76-4acf-b753-4e7f89d6aed1",
   "metadata": {},
   "outputs": [],
   "source": [
    "with h5py.File('OVIDE_position.mat', 'r') as f:\n",
    "    # Access variables like f['varname']\n",
    "    Lonovide = f['LaI_GR'][:]\n",
    "    Latovide = f['LoI_GR'][:]"
   ]
  },
  {
   "cell_type": "code",
   "execution_count": 59,
   "id": "2afaec4d-3d55-4d4b-a3aa-6ab8ac5667b6",
   "metadata": {},
   "outputs": [
    {
     "data": {
      "text/plain": [
       "(500, 500)"
      ]
     },
     "execution_count": 59,
     "metadata": {},
     "output_type": "execute_result"
    }
   ],
   "source": [
    "Lonovide.size,Latovide.size"
   ]
  }
 ],
 "metadata": {
  "kernelspec": {
   "display_name": "Python 3 (ipykernel)",
   "language": "python",
   "name": "python3"
  },
  "language_info": {
   "codemirror_mode": {
    "name": "ipython",
    "version": 3
   },
   "file_extension": ".py",
   "mimetype": "text/x-python",
   "name": "python",
   "nbconvert_exporter": "python",
   "pygments_lexer": "ipython3",
   "version": "3.12.8"
  }
 },
 "nbformat": 4,
 "nbformat_minor": 5
}
